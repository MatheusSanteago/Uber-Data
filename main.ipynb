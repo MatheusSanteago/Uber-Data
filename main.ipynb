{
 "cells": [
  {
   "cell_type": "code",
   "execution_count": null,
   "metadata": {},
   "outputs": [],
   "source": [
    "import pandas as pd"
   ]
  },
  {
   "cell_type": "code",
   "execution_count": null,
   "metadata": {},
   "outputs": [],
   "source": [
    "df = pd.read_csv('./Rider/trips_data-0.csv')"
   ]
  },
  {
   "cell_type": "markdown",
   "metadata": {},
   "source": [
    "City"
   ]
  },
  {
   "cell_type": "code",
   "execution_count": null,
   "metadata": {},
   "outputs": [],
   "source": [
    "df = df.replace({'city': {'Sao Paulo': 'São Paulo'}})"
   ]
  },
  {
   "cell_type": "markdown",
   "metadata": {},
   "source": [
    "Uber"
   ]
  },
  {
   "cell_type": "code",
   "execution_count": null,
   "metadata": {},
   "outputs": [],
   "source": [
    "df.product_type = df.product_type.str.title().str.replace('_', ' ')\n",
    "df = df.replace({'product_type': {'Uberx': 'UberX', 'UberVIP': 'Uber VIP'}})\n",
    "df.status = df.status.str.title().str.replace('_', ' ')"
   ]
  },
  {
   "cell_type": "markdown",
   "metadata": {},
   "source": [
    "Dates"
   ]
  },
  {
   "cell_type": "code",
   "execution_count": null,
   "metadata": {},
   "outputs": [],
   "source": [
    "df.request_time = pd.to_datetime(df.request_time, dayfirst=False).dt.strftime(\"%m/%d/%Y %H:%M:%S\")\n",
    "df.begin_trip_time = pd.to_datetime(\n",
    "    df.begin_trip_time,  dayfirst=False).dt.strftime(\"%m/%d/%Y %H:%M:%S\")\n",
    "df.dropoff_time = pd.to_datetime(\n",
    "    df.dropoff_time,  dayfirst=False).dt.strftime(\"%m/%d/%Y %H:%M:%S\")\n",
    "\n",
    "df['begin_trip_time'] = df['begin_trip_time'].fillna(df.request_time)\n",
    "df['dropoff_time'] = df['dropoff_time'].fillna(df.request_time)"
   ]
  },
  {
   "cell_type": "markdown",
   "metadata": {},
   "source": [
    "Address"
   ]
  },
  {
   "cell_type": "code",
   "execution_count": null,
   "metadata": {},
   "outputs": [],
   "source": [
    "df.begintrip_address = df.begintrip_address.fillna('')\n",
    "df.dropoff_address = df.dropoff_address.fillna('')"
   ]
  },
  {
   "cell_type": "markdown",
   "metadata": {},
   "source": [
    "Numbers"
   ]
  },
  {
   "cell_type": "code",
   "execution_count": null,
   "metadata": {},
   "outputs": [],
   "source": [
    "df.distance = df.distance.astype(str).str.replace('.', ',')\n",
    "\n",
    "df.fare_amount = df.fare_amount.astype(str).str.replace('.', ',')"
   ]
  },
  {
   "cell_type": "code",
   "execution_count": null,
   "metadata": {},
   "outputs": [],
   "source": [
    "df.to_csv('/data/trips/uber_data.csv')"
   ]
  }
 ],
 "metadata": {
  "kernelspec": {
   "display_name": "Python 3",
   "language": "python",
   "name": "python3"
  },
  "language_info": {
   "codemirror_mode": {
    "name": "ipython",
    "version": 3
   },
   "file_extension": ".py",
   "mimetype": "text/x-python",
   "name": "python",
   "nbconvert_exporter": "python",
   "pygments_lexer": "ipython3",
   "version": "3.13.0"
  }
 },
 "nbformat": 4,
 "nbformat_minor": 2
}
